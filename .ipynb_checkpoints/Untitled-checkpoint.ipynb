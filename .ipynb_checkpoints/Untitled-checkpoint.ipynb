{
 "cells": [
  {
   "cell_type": "code",
   "execution_count": null,
   "metadata": {},
   "outputs": [],
   "source": [
    "import matplotlib.pyplot as plt\n",
    "from sklearn.neural_network import MLPClassifier\n",
    "import numpy as np"
   ]
  },
  {
   "cell_type": "code",
   "execution_count": null,
   "metadata": {},
   "outputs": [],
   "source": [
    "import PIL\n",
    "import numpy\n",
    "basewidth = 50\n",
    "pil_image = PIL.Image.open('F:/gitdata/image_sample/0/1.jpg').convert('1') \n",
    "wpercent = (basewidth/float(pil_image.size[0]))\n",
    "hsize = int((float(pil_image.size[1])*float(wpercent)))\n",
    "img = pil_image.resize((basewidth,hsize), PIL.Image.ANTIALIAS)\n",
    "img"
   ]
  },
  {
   "cell_type": "code",
   "execution_count": null,
   "metadata": {},
   "outputs": [],
   "source": [
    "%pylab inline\n",
    "import os\n",
    "digits = []\n",
    "labels = []\n",
    "basewidth = 200\n",
    "fig = plt.figure(figsize = (20,20))\n",
    "cnt = 0 \n",
    "fig.subplots_adjust(left=0, right=1, bottom=0, top=1, hspace=0.05, wspace=0.05)\n",
    "for i in range(0,10):\n",
    "#    print(i,end=',')\n",
    "    for img in os.listdir('F:/gitdata/image_sample/{}/'.format(i))[:500]:\n",
    "        pil_image = PIL.Image.open('F:/gitdata/image_sample/{}/{}'.format(i, img)).convert('1') \n",
    "    \n",
    "        wpercent = (basewidth/float(pil_image.size[0]))\n",
    "        hsize = int((float(pil_image.size[1])*float(wpercent)))\n",
    "        img = pil_image.resize((basewidth,hsize), PIL.Image.ANTIALIAS)\n",
    "        \n",
    " #       ax = fig.add_subplot(100, 10, cnt+1, xticks=[], yticks=[])\n",
    " #       ax.imshow(img,cmap=plt.cm.binary,interpolation='nearest')\n",
    " #       ax.text(0, 7, str(i), color=\"red\", fontsize = 20)        \n",
    "        cnt = cnt + 1\n",
    "        \n",
    "        digits.append([pixel for pixel in iter(img.getdata())])\n",
    "        labels.append(i)"
   ]
  },
  {
   "cell_type": "code",
   "execution_count": null,
   "metadata": {},
   "outputs": [],
   "source": [
    "import numpy\n",
    "digit_ary  = numpy.array(digits)"
   ]
  },
  {
   "cell_type": "code",
   "execution_count": null,
   "metadata": {},
   "outputs": [],
   "source": [
    "digit_ary.shape"
   ]
  },
  {
   "cell_type": "code",
   "execution_count": null,
   "metadata": {},
   "outputs": [],
   "source": [
    "from sklearn.preprocessing import StandardScaler\n",
    "scaler = StandardScaler()\n",
    "scaler.fit(digit_ary)\n",
    "X_scaled = scaler.transform(digit_ary)"
   ]
  },
  {
   "cell_type": "code",
   "execution_count": null,
   "metadata": {},
   "outputs": [],
   "source": [
    "mlp = MLPClassifier(hidden_layer_sizes=(30,30,30), activation='logistic', max_iter = 1000)\n",
    "mlp.fit(X_scaled,labels)"
   ]
  },
  {
   "cell_type": "code",
   "execution_count": null,
   "metadata": {},
   "outputs": [],
   "source": [
    "a = (predicted = mlp.predict(X_scaled))\n"
   ]
  },
  {
   "cell_type": "code",
   "execution_count": null,
   "metadata": {},
   "outputs": [],
   "source": [
    "len([i for i in a if i==True])/len(a)"
   ]
  },
  {
   "cell_type": "code",
   "execution_count": null,
   "metadata": {},
   "outputs": [],
   "source": [
    "X_scaled"
   ]
  },
  {
   "cell_type": "code",
   "execution_count": null,
   "metadata": {},
   "outputs": [],
   "source": [
    "predicted"
   ]
  },
  {
   "cell_type": "code",
   "execution_count": null,
   "metadata": {},
   "outputs": [],
   "source": [
    "target = numpy.array(labels)"
   ]
  },
  {
   "cell_type": "code",
   "execution_count": null,
   "metadata": {},
   "outputs": [],
   "source": [
    "predicted == target"
   ]
  },
  {
   "cell_type": "code",
   "execution_count": null,
   "metadata": {},
   "outputs": [],
   "source": [
    "%pylab inline\n",
    "import os\n",
    "import PIL\n",
    "\n",
    "fig = plt.figure(figsize = (20,20))\n",
    "fig.subplots_adjust(left=0, right=1, bottom=0, top=1, hspace=0.05, wspace=0.05)\n",
    "\n",
    "for idx, img in enumerate(os.listdir('F:/gitdata/image_sample/prediction/')):\n",
    "    pil_image = PIL.Image.open('F:/gitdata/image_sample/prediction/{}'.format(img)).convert('1') \n",
    "    ax = fig.add_subplot(10, 12, idx+1, xticks=[], yticks=[])\n",
    "    ax.imshow(pil_image,cmap=plt.cm.binary,interpolation='nearest')"
   ]
  },
  {
   "cell_type": "code",
   "execution_count": null,
   "metadata": {},
   "outputs": [],
   "source": [
    "%pylab inline\n",
    "import os\n",
    "data = []\n",
    "basewidth = 200\n",
    "fig = plt.figure(figsize = (20,20))\n",
    "cnt = 0 \n",
    "fig.subplots_adjust(left=0, right=1, bottom=0, top=1, hspace=0.05, wspace=0.05)\n",
    "for idx, img in enumerate(os.listdir('F:/gitdata/image_sample/prediction/')):\n",
    "    pil_image = PIL.Image.open('F:/gitdata/image_sample/prediction/{}'.format(img)).convert('1') \n",
    "    \n",
    "    wpercent = (basewidth/float(pil_image.size[0]))\n",
    "    hsize = int((float(pil_image.size[1])*float(wpercent)))\n",
    "    img = pil_image.resize((basewidth,hsize), PIL.Image.ANTIALIAS)\n",
    "    data.append([pixel for pixel in iter(img.getdata())])"
   ]
  },
  {
   "cell_type": "code",
   "execution_count": null,
   "metadata": {},
   "outputs": [],
   "source": [
    "from sklearn.preprocessing import StandardScaler\n",
    "scaler = StandardScaler()\n",
    "scaler.fit(data)\n",
    "data_scaled = scaler.transform(data)"
   ]
  },
  {
   "cell_type": "code",
   "execution_count": null,
   "metadata": {},
   "outputs": [],
   "source": [
    "%pylab inline\n",
    "import os\n",
    "import PIL\n",
    "\n",
    "fig = plt.figure(figsize = (20,20))\n",
    "fig.subplots_adjust(left=0, right=1, bottom=0, top=1, hspace=0.05, wspace=0.05)\n",
    "\n",
    "for idx, img in enumerate(os.listdir('F:/gitdata/image_sample/prediction/')):\n",
    "    pil_image = PIL.Image.open('F:/gitdata/image_sample/prediction/{}'.format(img)).convert('1') \n",
    "    ax = fig.add_subplot(10, 12, idx+1, xticks=[], yticks=[])\n",
    "    ax.imshow(pil_image,cmap=plt.cm.binary,interpolation='nearest')\n",
    "mlp.predict(data_scaled)"
   ]
  },
  {
   "cell_type": "code",
   "execution_count": null,
   "metadata": {},
   "outputs": [],
   "source": []
  },
  {
   "cell_type": "code",
   "execution_count": null,
   "metadata": {},
   "outputs": [],
   "source": []
  },
  {
   "cell_type": "code",
   "execution_count": null,
   "metadata": {},
   "outputs": [],
   "source": []
  }
 ],
 "metadata": {
  "kernelspec": {
   "display_name": "Python 3",
   "language": "python",
   "name": "python3"
  },
  "language_info": {
   "codemirror_mode": {
    "name": "ipython",
    "version": 3
   },
   "file_extension": ".py",
   "mimetype": "text/x-python",
   "name": "python",
   "nbconvert_exporter": "python",
   "pygments_lexer": "ipython3",
   "version": "3.6.5"
  }
 },
 "nbformat": 4,
 "nbformat_minor": 2
}
